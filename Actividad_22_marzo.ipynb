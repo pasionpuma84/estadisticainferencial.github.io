{
  "nbformat": 4,
  "nbformat_minor": 0,
  "metadata": {
    "colab": {
      "provenance": []
    },
    "kernelspec": {
      "name": "python3",
      "display_name": "Python 3"
    },
    "language_info": {
      "name": "python"
    }
  },
  "cells": [
    {
      "cell_type": "markdown",
      "source": [
        "# **Importar las librerias a utilizar**\n",
        "\n",
        "# 'pandas' es una librería de Python utilizada para la manipulación y análisis de datos.\n",
        "\n",
        "# 'numpy' es una librería fundamental para el cálculo numérico en Python.\n",
        "\n",
        "# 'matplotlib.pyplot' es una librería para la creación de gráficos estáticos en Python.\n",
        "\n",
        "# 'seaborn' es una librería basada en 'matplotlib' que facilita la creación de gráficos estadísticos atractivos y complejos."
      ],
      "metadata": {
        "id": "uOXyE8P-X6Q1"
      }
    },
    {
      "cell_type": "code",
      "execution_count": 1,
      "metadata": {
        "id": "xXbQVNPaWZk5"
      },
      "outputs": [],
      "source": []
    },
    {
      "cell_type": "markdown",
      "source": [
        "## **Importar archivo DIVISAS CSV**\n",
        "\n",
        "- Recuerda que antes de importar tu archivo debes subirlo al apartado de archivos de Google Colab.\n",
        "- Mostrar los primeros 5 registros.\n"
      ],
      "metadata": {
        "id": "NOUinDv9aHga"
      }
    },
    {
      "cell_type": "code",
      "source": [],
      "metadata": {
        "id": "0lR2Mh6Uojr7"
      },
      "execution_count": null,
      "outputs": []
    },
    {
      "cell_type": "markdown",
      "source": [
        "## **OBTENER LOS SIGUIENTES DATOS**\n",
        "\n",
        "- Media del precio del euro y del dólar\n",
        "- Desviación Estándar del del euro y del dólar\n",
        "- Valor máximo y valor minimo del euro y del dólar ."
      ],
      "metadata": {
        "id": "i7_OtpAN5Qbs"
      }
    },
    {
      "cell_type": "code",
      "source": [],
      "metadata": {
        "id": "8lIv_53vqXtb"
      },
      "execution_count": null,
      "outputs": []
    },
    {
      "cell_type": "markdown",
      "source": [
        "## **GRAFICA DE BARRAS**\n",
        "\n",
        "- Crea una grafica de barras del precio del dolar por fecha\n",
        "\n",
        "** si al ejecutar las fechas se encuentran con una superposición de datos coloca la instrucción\n",
        "\n",
        "plt.xticks(rotation=90)"
      ],
      "metadata": {
        "id": "Rlb_NIQG58FM"
      }
    },
    {
      "cell_type": "code",
      "source": [],
      "metadata": {
        "id": "3tZstW6n6IJk"
      },
      "execution_count": null,
      "outputs": []
    },
    {
      "cell_type": "markdown",
      "source": [
        "## **GRAFICA DE LINEAS**\n",
        "\n",
        "- Crea una gráfica de lineas del precio del dolar por fecha\n",
        "\n",
        "** si al ejecutar las fechas se encuentran con una superposición de datos coloca la instrucción\n",
        "\n",
        "plt.xticks(rotation=90)"
      ],
      "metadata": {
        "id": "fUedC3ud7fXp"
      }
    },
    {
      "cell_type": "code",
      "source": [],
      "metadata": {
        "id": "jmELt5rt7pVY"
      },
      "execution_count": null,
      "outputs": []
    },
    {
      "cell_type": "markdown",
      "source": [
        "## **CORRELACIÓN DE PEARSON Y GRÁFICA DE DISPERSIÓN**\n",
        "\n",
        "- Crea una gráfica de dispercion entre precio del dolar y precio del euro y como columna referencia la fecha.\n",
        "\n",
        "- Obten la correlación de Pearson entre el dolar y el euro\n",
        "\n"
      ],
      "metadata": {
        "id": "JV5Q7JFf7_pg"
      }
    },
    {
      "cell_type": "code",
      "source": [],
      "metadata": {
        "id": "5XGB6Ko88Xwr"
      },
      "execution_count": null,
      "outputs": []
    }
  ]
}