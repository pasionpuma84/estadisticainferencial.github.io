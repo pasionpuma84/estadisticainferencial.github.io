{
  "nbformat": 4,
  "nbformat_minor": 0,
  "metadata": {
    "colab": {
      "provenance": []
    },
    "kernelspec": {
      "name": "python3",
      "display_name": "Python 3"
    },
    "language_info": {
      "name": "python"
    }
  },
  "cells": [
    {
      "cell_type": "markdown",
      "source": [
        "# **<FONT COLOR=\"BLUE\">`1. IMPORTAR LIBRERIAS`**"
      ],
      "metadata": {
        "id": "_WhV2BUgZrLi"
      }
    },
    {
      "cell_type": "code",
      "execution_count": null,
      "metadata": {
        "id": "XycbFkEIb5lp"
      },
      "outputs": [],
      "source": []
    },
    {
      "cell_type": "markdown",
      "source": [
        "# **<FONT COLOR=\"BLUE\">`2. IMPORTAR ARCHIVO marketing.csv Y MUESTRA LOS PRIMEROS 7 REGISTROS`**"
      ],
      "metadata": {
        "id": "vG9xzWmraQ1s"
      }
    },
    {
      "cell_type": "code",
      "source": [],
      "metadata": {
        "id": "QWCMhMoQb82T"
      },
      "execution_count": null,
      "outputs": []
    },
    {
      "cell_type": "markdown",
      "source": [
        "# **<FONT COLOR=\"BLUE\">`3. OBTENER TOTAL DE CLIENTES`**"
      ],
      "metadata": {
        "id": "H5QGMv8tcM4A"
      }
    },
    {
      "cell_type": "code",
      "source": [],
      "metadata": {
        "id": "1D4fqTHSb9dy"
      },
      "execution_count": null,
      "outputs": []
    },
    {
      "cell_type": "markdown",
      "source": [
        "# **<FONT COLOR=\"BLUE\">`4. OBTENER INGRESOS TOTALES`**"
      ],
      "metadata": {
        "id": "0dAY9eBNcOXA"
      }
    },
    {
      "cell_type": "code",
      "source": [],
      "metadata": {
        "id": "b72r5ST7b-MF"
      },
      "execution_count": null,
      "outputs": []
    },
    {
      "cell_type": "markdown",
      "source": [
        "# **<FONT COLOR=\"BLUE\">`5. OBTENER SALARIO MÁXIMO Y SALARIO MÍNIMO`**"
      ],
      "metadata": {
        "id": "5UI2zkCIcP4S"
      }
    },
    {
      "cell_type": "code",
      "source": [],
      "metadata": {
        "id": "NqVJm-kDcAiS"
      },
      "execution_count": null,
      "outputs": []
    },
    {
      "cell_type": "markdown",
      "source": [
        "# **<FONT COLOR=\"BLUE\">`6. REALIZA UNA GRAFICA CIRCULAR DE ACUERDO AL GENERO`**"
      ],
      "metadata": {
        "id": "XLUyKPNwcSoj"
      }
    },
    {
      "cell_type": "code",
      "source": [],
      "metadata": {
        "id": "FcCqzWdZcB7p"
      },
      "execution_count": null,
      "outputs": []
    },
    {
      "cell_type": "markdown",
      "source": [
        "# **<FONT COLOR=\"BLUE\">`7. REALIZA UNA GRAFICA DE BARRAS HORIZONTALES DE LA CANTIDAD DE CLIENTES POR CATEGORIA DE EDAD`**"
      ],
      "metadata": {
        "id": "FGC1uYHwdRHF"
      }
    },
    {
      "cell_type": "code",
      "source": [],
      "metadata": {
        "id": "myGsIxJNeFPt"
      },
      "execution_count": null,
      "outputs": []
    },
    {
      "cell_type": "markdown",
      "source": [
        "# **<FONT COLOR=\"BLUE\">`8. REALIZA UNA GRAFICA DE BARRAS VERTICALES DE LA CANTIDAD DE CLIENTES POR CATEGORIA DE ESTADO CIVIL`**"
      ],
      "metadata": {
        "id": "u0ayHH_GeRMp"
      }
    },
    {
      "cell_type": "code",
      "source": [],
      "metadata": {
        "id": "uDPqLE3Hecej"
      },
      "execution_count": null,
      "outputs": []
    }
  ]
}